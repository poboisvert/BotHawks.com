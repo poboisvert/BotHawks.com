{
 "cells": [
  {
   "cell_type": "code",
   "execution_count": 1,
   "metadata": {},
   "outputs": [],
   "source": [
    "# Import Python packages \n",
    "import pandas as pd\n",
    "import numpy as np\n",
    "\n",
    "import cassandra\n",
    "from cassandra.cluster import Cluster\n",
    "\n",
    "import re\n",
    "import os\n",
    "import glob\n",
    "\n",
    "import json\n",
    "import csv\n",
    "\n",
    "# Cassandra\n",
    "# https://medium.com/@manishyadavv/how-to-install-cassandra-on-mac-os-d9338fcfcba4\n",
    "# cassandra -f"
   ]
  },
  {
   "cell_type": "code",
   "execution_count": 2,
   "metadata": {},
   "outputs": [
    {
     "name": "stdout",
     "output_type": "stream",
     "text": [
      "/Users/pierre-olivierboisvert/Desktop/GIT/GroupMiniCassandraETL\n"
     ]
    }
   ],
   "source": [
    "# current working directory\n",
    "print(os.getcwd())\n",
    "\n",
    "# add subfolder event_data to current \n",
    "filepath = os.getcwd() + '/event_data'\n",
    "\n",
    "# Create a for loop to create a list of files and collect each filepath\n",
    "for root, dirs, files in os.walk(filepath):\n",
    "    \n",
    "# join the file path and roots with the subdirectories using glob\n",
    "    file_path_list = glob.glob(os.path.join(root,'*'))"
   ]
  },
  {
   "cell_type": "code",
   "execution_count": 3,
   "metadata": {},
   "outputs": [
    {
     "name": "stdout",
     "output_type": "stream",
     "text": [
      "8056\n"
     ]
    }
   ],
   "source": [
    "# initiating an empty list of rows that will be generated from each file\n",
    "full_data_rows_list = [] \n",
    "    \n",
    "# for every filepath in the file path list \n",
    "for f in file_path_list:\n",
    "\n",
    "# reading csv file in utf-8 encoding\n",
    "    with open(f, 'r', encoding = 'utf8', newline='') as csvfile: \n",
    "        csvreader = csv.reader(csvfile)\n",
    "        # go to next file\n",
    "        next(csvreader)\n",
    "        \n",
    " # extracting each row one by one and append to full_data_rows_list        \n",
    "        for line in csvreader:\n",
    "            full_data_rows_list.append(line) \n",
    "            \n",
    "# Document inspection - Total rows\n",
    "print(len(full_data_rows_list))\n",
    "\n",
    "# create smaller data csv file called event_datafile_full csv\n",
    "csv.register_dialect('myDialect', quoting=csv.QUOTE_ALL, skipinitialspace=True)\n",
    "\n",
    "with open('event_data_etl.csv', 'w', encoding = 'utf8', newline='') as f:\n",
    "    writer = csv.writer(f, dialect='myDialect')\n",
    "    writer.writerow(['artist','firstName','gender','itemInSession','lastName','length',\\\n",
    "                'level','location','sessionId','song','userId'])\n",
    "    \n",
    "    for row in full_data_rows_list:\n",
    "        if (row[0] == ''):\n",
    "            continue\n",
    "        writer.writerow((row[0], row[2], row[3], row[4], row[5], row[6], row[7], row[8], row[12], row[13], row[16]))"
   ]
  },
  {
   "cell_type": "code",
   "execution_count": 4,
   "metadata": {},
   "outputs": [
    {
     "name": "stdout",
     "output_type": "stream",
     "text": [
      "6821\n"
     ]
    }
   ],
   "source": [
    "# check the number of rows of the new data file\n",
    "with open('event_data_etl.csv', 'r', encoding = 'utf8') as f:\n",
    "    print(sum(1 for line in f))"
   ]
  },
  {
   "cell_type": "code",
   "execution_count": 5,
   "metadata": {},
   "outputs": [],
   "source": [
    "# Establish connection and begin executing queries, need a session\n",
    "\n",
    "try:\n",
    "    cluster = Cluster(['127.0.0.1'])\n",
    "    \n",
    "    session = cluster.connect()\n",
    "\n",
    "except Exception as e:\n",
    "    print(e)"
   ]
  },
  {
   "cell_type": "code",
   "execution_count": 6,
   "metadata": {},
   "outputs": [],
   "source": [
    "# Creating the keyspace sesion\n",
    "\n",
    "try:\n",
    "    session.execute(\"\"\"\n",
    "    CREATE KEYSPACE IF NOT EXISTS cassandradb \n",
    "    WITH REPLICATION = {'class' : 'SimpleStrategy', 'replication_factor' : 1}\n",
    "    \"\"\")\n",
    "    \n",
    "except Exception as e:\n",
    "    print(e)"
   ]
  },
  {
   "cell_type": "code",
   "execution_count": 7,
   "metadata": {},
   "outputs": [],
   "source": [
    "# connecting to DB\n",
    "\n",
    "try:\n",
    "    session.set_keyspace('cassandradb')\n",
    "except Exception as e:\n",
    "    print(e)"
   ]
  },
  {
   "cell_type": "code",
   "execution_count": 8,
   "metadata": {},
   "outputs": [
    {
     "name": "stdout",
     "output_type": "stream",
     "text": [
      "Table session_song created\n"
     ]
    }
   ],
   "source": [
    "query = \"CREATE TABLE IF NOT EXISTS session_songs \"\n",
    "query = query + '(sessionId int, itemInSession int, artist text, song text, length float, PRIMARY KEY(sessionId, itemInSession))'\n",
    "\n",
    "try:\n",
    "    session.execute(query)\n",
    "    print('Table session_song created')\n",
    "\n",
    "except Exception as e:\n",
    "    print(e)"
   ]
  },
  {
   "cell_type": "code",
   "execution_count": 9,
   "metadata": {},
   "outputs": [
    {
     "name": "stdout",
     "output_type": "stream",
     "text": [
      "Row(count=6820)\n"
     ]
    }
   ],
   "source": [
    "# Checking if the table is empty\n",
    "try:\n",
    "    rows = session.execute('SELECT COUNT(*) FROM session_songs')\n",
    "\n",
    "except Exception as e:\n",
    "    print(e)\n",
    "\n",
    "for row in rows:\n",
    "    print(row)"
   ]
  },
  {
   "cell_type": "code",
   "execution_count": 10,
   "metadata": {},
   "outputs": [
    {
     "name": "stdout",
     "output_type": "stream",
     "text": [
      "Row(count=6820)\n"
     ]
    }
   ],
   "source": [
    "# Adding some data into the new table\n",
    "csv_file = 'event_data.csv'\n",
    "\n",
    "query = \"INSERT INTO session_songs (sessionId, itemInsession, artist, song, length) VALUES (%s, %s, %s, %s, %s)\"\n",
    "\n",
    "# reading csv file \n",
    "with open(csv_file, 'r', encoding = 'utf8', newline='') as csvfile: \n",
    "    # creating a csv reader object \n",
    "    csvreader = csv.reader(csvfile) \n",
    "    next(csvreader)\n",
    "\n",
    "    # Reading each line and adding it to the table\n",
    "    for line in csvreader:\n",
    "        artist, firstName, gender, itemInSession, lastName, length, level, location, sessionId, song, userId = line\n",
    "\n",
    "        try:\n",
    "            session.execute(query, (int(sessionId), int(itemInSession), artist, song, float(length)))\n",
    "\n",
    "        except Exception as e:\n",
    "            print(f'The line was not inserted\\nError: {e}')\n",
    "\n",
    "#checking the inserted data\n",
    "try:\n",
    "    rows = session.execute('SELECT COUNT(*) FROM session_songs')\n",
    "\n",
    "except Exception as e:\n",
    "    print(e)\n",
    "\n",
    "for row in rows:\n",
    "    print(row)"
   ]
  },
  {
   "cell_type": "code",
   "execution_count": 11,
   "metadata": {},
   "outputs": [
    {
     "name": "stdout",
     "output_type": "stream",
     "text": [
      "Artist: Faithless, song name: Music Matters (Mark Knight Dub), length: 495.30731201171875\n"
     ]
    }
   ],
   "source": [
    "# Answering the question \"Give me the artist, song title and song's length in the music app history that was heard during  sessionId = 338, and itemInSession  = 4\"\n",
    "\n",
    "try:\n",
    "    rows = session.execute(\"SELECT artist, song, length FROM session_songs WHERE sessionId = 338 AND itemInSession = 4\")\n",
    "    \n",
    "    for row in rows:\n",
    "        print(f'Artist: {row.artist}, song name: {row.song}, length: {row.length}')\n",
    "    \n",
    "except Exception as e:\n",
    "    print(e)"
   ]
  },
  {
   "cell_type": "code",
   "execution_count": 12,
   "metadata": {},
   "outputs": [
    {
     "name": "stdout",
     "output_type": "stream",
     "text": [
      "Table user_session created\n"
     ]
    }
   ],
   "source": [
    "query = \"CREATE TABLE IF NOT EXISTS user_session \"\n",
    "query = query + '( userId int, sessionId int, itemInSession int, artist text, \\\n",
    "                   song text, firstName text, lastName text, \\\n",
    "                   PRIMARY KEY((userId, sessionId), itemInSession))'\n",
    "\n",
    "try:\n",
    "    session.execute(query)\n",
    "    print('Table user_session created')\n",
    "\n",
    "except Exception as e:\n",
    "    print(e)"
   ]
  },
  {
   "cell_type": "code",
   "execution_count": 13,
   "metadata": {},
   "outputs": [
    {
     "name": "stdout",
     "output_type": "stream",
     "text": [
      "Row(count=0)\n"
     ]
    }
   ],
   "source": [
    "# Checking if the table is empty\n",
    "try:\n",
    "    rows = session.execute('SELECT COUNT(*) FROM user_session')\n",
    "\n",
    "except Exception as e:\n",
    "    print(e)\n",
    "\n",
    "for row in rows:\n",
    "    print(row)"
   ]
  },
  {
   "cell_type": "code",
   "execution_count": 14,
   "metadata": {},
   "outputs": [],
   "source": [
    "# Adding some data into the new table\n",
    "csv_file = 'event_data_etl.csv'\n",
    "query = \"INSERT INTO user_session (userId, sessionId, itemInSession, artist, song, firstName, lastName) VALUES (%s, %s, %s, %s, %s, %s, %s)\"\n",
    "\n",
    "# reading csv file \n",
    "with open(csv_file, 'r', encoding = 'utf8', newline='') as csvfile: \n",
    "    # creating a csv reader object \n",
    "    csvreader = csv.reader(csvfile) \n",
    "    next(csvreader)\n",
    "\n",
    "    # Reading each line and adding it to the table\n",
    "    for line in csvreader:\n",
    "        artist, firstName, gender, itemInSession, lastName, length, level, location, sessionId, song, userId = line\n",
    "\n",
    "        try:\n",
    "            session.execute(query, (int(userId), int(sessionId), int(itemInSession), artist, song, firstName, lastName))\n",
    "\n",
    "        except Exception as e:\n",
    "            print(f'The line was not inserted\\nError: {e}')"
   ]
  },
  {
   "cell_type": "code",
   "execution_count": 15,
   "metadata": {},
   "outputs": [
    {
     "name": "stdout",
     "output_type": "stream",
     "text": [
      "Row(count=6820)\n"
     ]
    }
   ],
   "source": [
    "#checking the inserted data\n",
    "\n",
    "try:\n",
    "    rows = session.execute('SELECT COUNT(*) FROM user_session')\n",
    "\n",
    "except Exception as e:\n",
    "    print(e)\n",
    "\n",
    "for row in rows:\n",
    "    print(row)"
   ]
  },
  {
   "cell_type": "code",
   "execution_count": 16,
   "metadata": {},
   "outputs": [
    {
     "name": "stdout",
     "output_type": "stream",
     "text": [
      "Artist: Down To The Bone, Song name: Keep On Keepin' On, User: Sylvie Cruz\n",
      "Artist: Three Drives, Song name: Greece 2000, User: Sylvie Cruz\n",
      "Artist: Sebastien Tellier, Song name: Kilometer, User: Sylvie Cruz\n",
      "Artist: Lonnie Gordon, Song name: Catch You Baby (Steve Pitron & Max Sanna Radio Edit), User: Sylvie Cruz\n"
     ]
    }
   ],
   "source": [
    "# Answering the question \"Give me only the following: name of artist, song (sorted by itemInSession) and user (first and last name) for userid = 10, sessionid = 182\"\n",
    "\n",
    "try:\n",
    "    rows = session.execute(\"SELECT artist, song, firstName, lastName \\\n",
    "                           FROM user_session \\\n",
    "                           WHERE userId = 10 AND sessionId = 182 \\\n",
    "                           ORDER BY itemInSession\" )\n",
    "    \n",
    "    for row in rows:\n",
    "        print(f'Artist: {row.artist}, Song name: {row.song}, User: {row.firstname} {row.lastname}')\n",
    "        \n",
    "except Exception as e:\n",
    "    print(e)"
   ]
  },
  {
   "cell_type": "code",
   "execution_count": 17,
   "metadata": {},
   "outputs": [
    {
     "name": "stdout",
     "output_type": "stream",
     "text": [
      "Table user_songs created\n"
     ]
    }
   ],
   "source": [
    "query = \"CREATE TABLE IF NOT EXISTS user_songs \"\n",
    "query = query + '(song text, userId int, firstName text, lastName text, PRIMARY KEY(song, userId))'\n",
    "\n",
    "try:\n",
    "    session.execute(query)\n",
    "    print('Table user_songs created')\n",
    "\n",
    "except Exception as e:\n",
    "    print(e)"
   ]
  },
  {
   "cell_type": "code",
   "execution_count": 18,
   "metadata": {},
   "outputs": [
    {
     "name": "stdout",
     "output_type": "stream",
     "text": [
      "Row(count=0)\n"
     ]
    }
   ],
   "source": [
    "# Checking if the table is empty\n",
    "try:\n",
    "    rows = session.execute('SELECT COUNT(*) FROM user_songs')\n",
    "\n",
    "except Exception as e:\n",
    "    print(e)\n",
    "\n",
    "for row in rows:\n",
    "    print(row)"
   ]
  },
  {
   "cell_type": "code",
   "execution_count": 20,
   "metadata": {},
   "outputs": [],
   "source": [
    "# Adding some data into the new table\n",
    "csv_file = 'event_data_etl.csv'\n",
    "query = \"INSERT INTO user_songs (song, userId, firstName, lastName) VALUES (%s, %s, %s, %s)\"\n",
    "\n",
    "# reading csv file \n",
    "with open(csv_file, 'r', encoding = 'utf8', newline='') as csvfile: \n",
    "    # creating a csv reader object \n",
    "    csvreader = csv.reader(csvfile) \n",
    "    next(csvreader)\n",
    "\n",
    "    # Reading each line and adding it to the table\n",
    "    for line in csvreader:\n",
    "        artist, firstName, gender, itemInSession, lastName, length, level, location, sessionId, song, userId = line\n",
    "\n",
    "        try:\n",
    "            session.execute(query, (song, int(userId), firstName, lastName))\n",
    "\n",
    "        except Exception as e:\n",
    "            print(f'The line was not inserted\\nError: {e}')"
   ]
  },
  {
   "cell_type": "code",
   "execution_count": 21,
   "metadata": {},
   "outputs": [
    {
     "name": "stdout",
     "output_type": "stream",
     "text": [
      "Row(count=6618)\n"
     ]
    }
   ],
   "source": [
    "#checking the inserted data\n",
    "\n",
    "try:\n",
    "    rows = session.execute('SELECT COUNT(*) FROM user_songs')\n",
    "\n",
    "except Exception as e:\n",
    "    print(e)\n",
    "\n",
    "for row in rows:\n",
    "    print(row)"
   ]
  },
  {
   "cell_type": "code",
   "execution_count": 22,
   "metadata": {},
   "outputs": [
    {
     "name": "stdout",
     "output_type": "stream",
     "text": [
      "User: Jacqueline Lynch\n",
      "User: Tegan Levine\n",
      "User: Sara Johnson\n"
     ]
    }
   ],
   "source": [
    "# Get History - who listened to the song 'All Hands Against His Own'\n",
    "\n",
    "try:\n",
    "    rows = session.execute(\"SELECT firstName, lastName\\\n",
    "                           FROM user_songs \\\n",
    "                           WHERE song = 'All Hands Against His Own'\" )\n",
    "    \n",
    "    for row in rows:\n",
    "        print(f'User: {row.firstname} {row.lastname}')\n",
    "        \n",
    "except Exception as e:\n",
    "    print(e)"
   ]
  },
  {
   "cell_type": "markdown",
   "metadata": {},
   "source": [
    "### Delete DB"
   ]
  },
  {
   "cell_type": "code",
   "execution_count": 23,
   "metadata": {},
   "outputs": [],
   "source": [
    "# All tables in a list\n",
    "queries_drop = [\"DROP TABLE session_songs\", \n",
    "                \"DROP TABLE user_session \", \n",
    "                \"DROP TABLE user_songs\"]\n",
    "\n",
    "try:\n",
    "    for query in queries_drop:\n",
    "        rows = session.execute(query)\n",
    "        \n",
    "except Exception as e:\n",
    "    print(e)"
   ]
  },
  {
   "cell_type": "code",
   "execution_count": null,
   "metadata": {},
   "outputs": [],
   "source": []
  }
 ],
 "metadata": {
  "kernelspec": {
   "display_name": "PythonData",
   "language": "python",
   "name": "pythondata"
  },
  "language_info": {
   "codemirror_mode": {
    "name": "ipython",
    "version": 3
   },
   "file_extension": ".py",
   "mimetype": "text/x-python",
   "name": "python",
   "nbconvert_exporter": "python",
   "pygments_lexer": "ipython3",
   "version": "3.9.4"
  }
 },
 "nbformat": 4,
 "nbformat_minor": 4
}
